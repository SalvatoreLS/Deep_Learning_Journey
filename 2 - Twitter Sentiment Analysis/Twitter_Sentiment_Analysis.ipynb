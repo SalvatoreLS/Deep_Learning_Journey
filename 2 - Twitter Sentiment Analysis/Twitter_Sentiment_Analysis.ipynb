{
  "cells": [
    {
      "cell_type": "code",
      "execution_count": null,
      "id": "0ca831e5",
      "metadata": {
        "execution": {
          "iopub.execute_input": "2024-09-19T10:06:01.329465Z",
          "iopub.status.busy": "2024-09-19T10:06:01.329070Z",
          "iopub.status.idle": "2024-09-19T10:06:15.883648Z",
          "shell.execute_reply": "2024-09-19T10:06:15.882448Z"
        },
        "papermill": {
          "duration": 14.565932,
          "end_time": "2024-09-19T10:06:15.886192",
          "exception": false,
          "start_time": "2024-09-19T10:06:01.320260",
          "status": "completed"
        },
        "tags": [],
        "id": "0ca831e5"
      },
      "outputs": [],
      "source": [
        "!pip install numpy pandas tensorflow"
      ]
    },
    {
      "cell_type": "code",
      "execution_count": null,
      "id": "f5dba945",
      "metadata": {
        "_cell_guid": "b1076dfc-b9ad-4769-8c92-a6c4dae69d19",
        "_uuid": "8f2839f25d086af736a60e9eeb907d3b93b6e0e5",
        "execution": {
          "iopub.execute_input": "2024-09-19T10:06:15.903153Z",
          "iopub.status.busy": "2024-09-19T10:06:15.902773Z",
          "iopub.status.idle": "2024-09-19T10:06:30.209415Z",
          "shell.execute_reply": "2024-09-19T10:06:30.208408Z"
        },
        "papermill": {
          "duration": 14.31787,
          "end_time": "2024-09-19T10:06:30.211836",
          "exception": false,
          "start_time": "2024-09-19T10:06:15.893966",
          "status": "completed"
        },
        "tags": [],
        "id": "f5dba945"
      },
      "outputs": [],
      "source": [
        "import numpy as np\n",
        "import pandas as pd\n",
        "import re\n",
        "import pickle\n",
        "import json\n",
        "from sklearn.model_selection import train_test_split\n",
        "from tensorflow.keras.layers import Dense, Embedding, LSTM, Bidirectional, Dropout, GlobalMaxPooling1D\n",
        "from tensorflow.keras.models import Sequential\n",
        "from tensorflow.keras.preprocessing.text import Tokenizer\n",
        "from tensorflow.keras.preprocessing.sequence import pad_sequences\n",
        "from tensorflow.keras.callbacks import EarlyStopping\n",
        "from tensorflow.keras.optimizers import Adam, AdamW"
      ]
    },
    {
      "cell_type": "markdown",
      "source": [
        "# Loading data\n",
        "This notebook is using the **Sentiment140** dataset provided by **Kaggle**.\n",
        "It contains 1.6M Tweets, labelled with 0 (negative) or 4 (positive).\n",
        "\n",
        "Firstly, I dropped all the useless columns, by keeping only the target column and the text.\n",
        "\n",
        "A preprocessing function is used to remove useless characters, tags or URLs."
      ],
      "metadata": {
        "id": "QBFl8fx0WyUP"
      },
      "id": "QBFl8fx0WyUP"
    },
    {
      "cell_type": "code",
      "execution_count": null,
      "id": "1ab7d976",
      "metadata": {
        "execution": {
          "iopub.execute_input": "2024-09-19T10:06:30.228875Z",
          "iopub.status.busy": "2024-09-19T10:06:30.227832Z",
          "iopub.status.idle": "2024-09-19T10:06:36.593878Z",
          "shell.execute_reply": "2024-09-19T10:06:36.593048Z"
        },
        "papermill": {
          "duration": 6.376906,
          "end_time": "2024-09-19T10:06:36.596285",
          "exception": false,
          "start_time": "2024-09-19T10:06:30.219379",
          "status": "completed"
        },
        "tags": [],
        "id": "1ab7d976"
      },
      "outputs": [],
      "source": [
        "df = pd.read_csv('/kaggle/input/sentiment140/training.1600000.processed.noemoticon.csv', encoding = 'ISO-8859-1', header=None)"
      ]
    },
    {
      "cell_type": "code",
      "execution_count": null,
      "id": "5f5b25d1",
      "metadata": {
        "execution": {
          "iopub.execute_input": "2024-09-19T10:06:36.612390Z",
          "iopub.status.busy": "2024-09-19T10:06:36.612041Z",
          "iopub.status.idle": "2024-09-19T10:06:36.751856Z",
          "shell.execute_reply": "2024-09-19T10:06:36.751069Z"
        },
        "papermill": {
          "duration": 0.150442,
          "end_time": "2024-09-19T10:06:36.754185",
          "exception": false,
          "start_time": "2024-09-19T10:06:36.603743",
          "status": "completed"
        },
        "tags": [],
        "id": "5f5b25d1"
      },
      "outputs": [],
      "source": [
        "df.columns = ['target', 'id', 'date', 'flag', 'user', 'text']\n",
        "df.drop(columns=['id', 'date', 'flag', 'user', 'id'], inplace=True)"
      ]
    },
    {
      "cell_type": "code",
      "execution_count": null,
      "id": "4de24819",
      "metadata": {
        "execution": {
          "iopub.execute_input": "2024-09-19T10:06:36.770809Z",
          "iopub.status.busy": "2024-09-19T10:06:36.770051Z",
          "iopub.status.idle": "2024-09-19T10:06:36.775123Z",
          "shell.execute_reply": "2024-09-19T10:06:36.774270Z"
        },
        "papermill": {
          "duration": 0.01555,
          "end_time": "2024-09-19T10:06:36.777366",
          "exception": false,
          "start_time": "2024-09-19T10:06:36.761816",
          "status": "completed"
        },
        "tags": [],
        "id": "4de24819"
      },
      "outputs": [],
      "source": [
        "def clean_tweet(tweet):\n",
        "    tweet = re.sub(r'@[A-Za-z0-9_]+', '', tweet)  # Remove @mentions\n",
        "    tweet = re.sub(r'https?://[A-Za-z0-9./]+', '', tweet)  # Remove URLs\n",
        "    tweet = re.sub(r'[^a-zA-Z\\s]', '', tweet)  # Remove special characters\n",
        "    tweet = tweet.lower()  # Convert to lowercase\n",
        "    return tweet"
      ]
    },
    {
      "cell_type": "code",
      "execution_count": null,
      "id": "38768e4c",
      "metadata": {
        "execution": {
          "iopub.execute_input": "2024-09-19T10:06:36.793393Z",
          "iopub.status.busy": "2024-09-19T10:06:36.793069Z",
          "iopub.status.idle": "2024-09-19T10:06:48.764230Z",
          "shell.execute_reply": "2024-09-19T10:06:48.763223Z"
        },
        "papermill": {
          "duration": 11.981987,
          "end_time": "2024-09-19T10:06:48.766750",
          "exception": false,
          "start_time": "2024-09-19T10:06:36.784763",
          "status": "completed"
        },
        "tags": [],
        "id": "38768e4c"
      },
      "outputs": [],
      "source": [
        "df['processed_text'] = df['text'].apply(clean_tweet)\n",
        "df['target'] = df['target'].map({0: 0, 4: 1})"
      ]
    },
    {
      "cell_type": "code",
      "execution_count": null,
      "id": "06e9167d",
      "metadata": {
        "execution": {
          "iopub.execute_input": "2024-09-19T10:06:48.784392Z",
          "iopub.status.busy": "2024-09-19T10:06:48.783999Z",
          "iopub.status.idle": "2024-09-19T10:06:48.788650Z",
          "shell.execute_reply": "2024-09-19T10:06:48.787659Z"
        },
        "papermill": {
          "duration": 0.015737,
          "end_time": "2024-09-19T10:06:48.790622",
          "exception": false,
          "start_time": "2024-09-19T10:06:48.774885",
          "status": "completed"
        },
        "tags": [],
        "id": "06e9167d"
      },
      "outputs": [],
      "source": [
        "vocab_size = 50000\n",
        "max_length = 100"
      ]
    },
    {
      "cell_type": "code",
      "execution_count": null,
      "id": "71dc18a4",
      "metadata": {
        "execution": {
          "iopub.execute_input": "2024-09-19T10:06:48.807136Z",
          "iopub.status.busy": "2024-09-19T10:06:48.806740Z",
          "iopub.status.idle": "2024-09-19T10:07:21.583060Z",
          "shell.execute_reply": "2024-09-19T10:07:21.582062Z"
        },
        "papermill": {
          "duration": 32.787163,
          "end_time": "2024-09-19T10:07:21.585466",
          "exception": false,
          "start_time": "2024-09-19T10:06:48.798303",
          "status": "completed"
        },
        "tags": [],
        "id": "71dc18a4"
      },
      "outputs": [],
      "source": [
        "tokenizer = Tokenizer(num_words=vocab_size, oov_token=\"<OOV>\")\n",
        "tokenizer.fit_on_texts(df['processed_text'])"
      ]
    },
    {
      "cell_type": "code",
      "execution_count": null,
      "id": "32daa1c2",
      "metadata": {
        "execution": {
          "iopub.execute_input": "2024-09-19T10:07:21.602244Z",
          "iopub.status.busy": "2024-09-19T10:07:21.601634Z",
          "iopub.status.idle": "2024-09-19T10:07:57.406703Z",
          "shell.execute_reply": "2024-09-19T10:07:57.405853Z"
        },
        "papermill": {
          "duration": 35.816118,
          "end_time": "2024-09-19T10:07:57.409216",
          "exception": false,
          "start_time": "2024-09-19T10:07:21.593098",
          "status": "completed"
        },
        "tags": [],
        "id": "32daa1c2"
      },
      "outputs": [],
      "source": [
        "# Convert text to sequences and pad\n",
        "sequences = tokenizer.texts_to_sequences(df['processed_text'])\n",
        "padded_sequences = pad_sequences(sequences, maxlen=max_length, padding='post', truncating='post')"
      ]
    },
    {
      "cell_type": "code",
      "execution_count": null,
      "id": "9bd599c8",
      "metadata": {
        "execution": {
          "iopub.execute_input": "2024-09-19T10:07:57.426181Z",
          "iopub.status.busy": "2024-09-19T10:07:57.425550Z",
          "iopub.status.idle": "2024-09-19T10:07:57.775085Z",
          "shell.execute_reply": "2024-09-19T10:07:57.774192Z"
        },
        "papermill": {
          "duration": 0.360683,
          "end_time": "2024-09-19T10:07:57.777489",
          "exception": false,
          "start_time": "2024-09-19T10:07:57.416806",
          "status": "completed"
        },
        "tags": [],
        "id": "9bd599c8"
      },
      "outputs": [],
      "source": [
        "X_train, X_test, y_train, y_test = train_test_split(padded_sequences, df['target'], test_size=0.2, random_state=42)"
      ]
    },
    {
      "cell_type": "markdown",
      "source": [
        "# GloVe embeddings\n",
        "I decided not to train embeddings from scratch, but rather to use GloVe embeddings, already pretrained and well-performing.\n",
        "\n",
        "The version used is the `glove.6b` using 100 dimensions."
      ],
      "metadata": {
        "id": "1Qm4-trPY6a2"
      },
      "id": "1Qm4-trPY6a2"
    },
    {
      "cell_type": "code",
      "execution_count": null,
      "id": "099dc389",
      "metadata": {
        "execution": {
          "iopub.execute_input": "2024-09-19T10:07:57.794031Z",
          "iopub.status.busy": "2024-09-19T10:07:57.793644Z",
          "iopub.status.idle": "2024-09-19T10:07:57.801191Z",
          "shell.execute_reply": "2024-09-19T10:07:57.800305Z"
        },
        "papermill": {
          "duration": 0.018245,
          "end_time": "2024-09-19T10:07:57.803217",
          "exception": false,
          "start_time": "2024-09-19T10:07:57.784972",
          "status": "completed"
        },
        "tags": [],
        "id": "099dc389"
      },
      "outputs": [],
      "source": [
        "def load_glove_embeddings(glove_path, embedding_dim, tokenizer, vocab_size):\n",
        "    embeddings_index = {}\n",
        "    with open(glove_path, 'r', encoding='utf-8') as f:\n",
        "        for line in f:\n",
        "            values = line.split()\n",
        "            word = values[0]\n",
        "            coefs = np.asarray(values[1:], dtype='float32')\n",
        "            embeddings_index[word] = coefs\n",
        "\n",
        "    # Create embedding matrix\n",
        "    embedding_matrix = np.zeros((vocab_size, embedding_dim))\n",
        "    for word, index in tokenizer.word_index.items():\n",
        "        if index < vocab_size:\n",
        "            embedding_vector = embeddings_index.get(word)\n",
        "            if embedding_vector is not None:\n",
        "                embedding_matrix[index] = embedding_vector\n",
        "\n",
        "    return embedding_matrix"
      ]
    },
    {
      "cell_type": "code",
      "execution_count": null,
      "id": "73daaa35",
      "metadata": {
        "execution": {
          "iopub.execute_input": "2024-09-19T10:07:57.819489Z",
          "iopub.status.busy": "2024-09-19T10:07:57.819125Z",
          "iopub.status.idle": "2024-09-19T10:07:57.823447Z",
          "shell.execute_reply": "2024-09-19T10:07:57.822525Z"
        },
        "papermill": {
          "duration": 0.01472,
          "end_time": "2024-09-19T10:07:57.825394",
          "exception": false,
          "start_time": "2024-09-19T10:07:57.810674",
          "status": "completed"
        },
        "tags": [],
        "id": "73daaa35"
      },
      "outputs": [],
      "source": [
        "embedding_dim = 100\n",
        "glove_path = '/kaggle/input/glove100/glove.6B.100d.txt'"
      ]
    },
    {
      "cell_type": "code",
      "execution_count": null,
      "id": "1c2828de",
      "metadata": {
        "execution": {
          "iopub.execute_input": "2024-09-19T10:07:57.841952Z",
          "iopub.status.busy": "2024-09-19T10:07:57.841574Z",
          "iopub.status.idle": "2024-09-19T10:08:10.158159Z",
          "shell.execute_reply": "2024-09-19T10:08:10.157315Z"
        },
        "papermill": {
          "duration": 12.327681,
          "end_time": "2024-09-19T10:08:10.160504",
          "exception": false,
          "start_time": "2024-09-19T10:07:57.832823",
          "status": "completed"
        },
        "tags": [],
        "id": "1c2828de"
      },
      "outputs": [],
      "source": [
        "embedding_matrix = load_glove_embeddings(glove_path, embedding_dim, tokenizer, vocab_size)"
      ]
    },
    {
      "cell_type": "markdown",
      "source": [
        "# Model\n",
        "Once embeddings have been loaded, I moved to the model.\n",
        "It is composed by the following layers:\n",
        "1. **Embedding**: the GloVe embeddings loaded previously\n",
        "2. **Bidirectional LSTM layers**: to give more context to the algorithm and make it consider the full sentence for making predictions\n",
        "3. **Dense layers with Dropout**: to avoid overfitting by reducing complexity"
      ],
      "metadata": {
        "id": "nDWLHu7rZOqY"
      },
      "id": "nDWLHu7rZOqY"
    },
    {
      "cell_type": "code",
      "execution_count": null,
      "id": "468d6aa5",
      "metadata": {
        "execution": {
          "iopub.execute_input": "2024-09-19T10:08:10.177115Z",
          "iopub.status.busy": "2024-09-19T10:08:10.176715Z",
          "iopub.status.idle": "2024-09-19T10:08:10.953903Z",
          "shell.execute_reply": "2024-09-19T10:08:10.953031Z"
        },
        "papermill": {
          "duration": 0.788103,
          "end_time": "2024-09-19T10:08:10.956216",
          "exception": false,
          "start_time": "2024-09-19T10:08:10.168113",
          "status": "completed"
        },
        "tags": [],
        "id": "468d6aa5"
      },
      "outputs": [],
      "source": [
        "model = Sequential()\n",
        "\n",
        "model.add(Embedding(\n",
        "    input_dim=vocab_size,\n",
        "    output_dim=embedding_dim,\n",
        "    weights=[embedding_matrix],\n",
        "    trainable=False))\n",
        "\n",
        "model.add(Bidirectional(LSTM(128, return_sequences=True)))\n",
        "model.add(Bidirectional(LSTM(64, return_sequences=True)))\n",
        "model.add(GlobalMaxPooling1D())\n",
        "\n",
        "model.add(Dense(128, activation='relu'))\n",
        "model.add(Dropout(0.4))\n",
        "model.add(Dense(64, activation='relu'))\n",
        "model.add(Dropout(0.2))\n",
        "model.add(Dense(1, activation='sigmoid'))"
      ]
    },
    {
      "cell_type": "code",
      "execution_count": null,
      "id": "e3c6998b",
      "metadata": {
        "execution": {
          "iopub.execute_input": "2024-09-19T10:08:10.972594Z",
          "iopub.status.busy": "2024-09-19T10:08:10.972221Z",
          "iopub.status.idle": "2024-09-19T10:08:10.990821Z",
          "shell.execute_reply": "2024-09-19T10:08:10.990064Z"
        },
        "papermill": {
          "duration": 0.029317,
          "end_time": "2024-09-19T10:08:10.992979",
          "exception": false,
          "start_time": "2024-09-19T10:08:10.963662",
          "status": "completed"
        },
        "tags": [],
        "id": "e3c6998b"
      },
      "outputs": [],
      "source": [
        "optimizer = AdamW(learning_rate=0.001)\n",
        "model.compile(optimizer=optimizer, loss='binary_crossentropy', metrics=['accuracy'])"
      ]
    },
    {
      "cell_type": "code",
      "execution_count": null,
      "id": "8d48463e",
      "metadata": {
        "execution": {
          "iopub.execute_input": "2024-09-19T10:08:11.051664Z",
          "iopub.status.busy": "2024-09-19T10:08:11.051318Z",
          "iopub.status.idle": "2024-09-19T10:08:11.055644Z",
          "shell.execute_reply": "2024-09-19T10:08:11.054772Z"
        },
        "papermill": {
          "duration": 0.015521,
          "end_time": "2024-09-19T10:08:11.057487",
          "exception": false,
          "start_time": "2024-09-19T10:08:11.041966",
          "status": "completed"
        },
        "tags": [],
        "id": "8d48463e"
      },
      "outputs": [],
      "source": [
        "early_stopping = EarlyStopping(\n",
        "    monitor='val_loss',\n",
        "    patience=5,\n",
        "    restore_best_weights=True)"
      ]
    },
    {
      "cell_type": "markdown",
      "source": [
        "# Model Training\n",
        "Training stopped after 11 epochs due to the `EarlyStopping` introduced to prevent model's overfitting."
      ],
      "metadata": {
        "id": "djD5cYccb14d"
      },
      "id": "djD5cYccb14d"
    },
    {
      "cell_type": "code",
      "execution_count": null,
      "id": "2054df9d",
      "metadata": {
        "execution": {
          "iopub.execute_input": "2024-09-19T10:08:11.075799Z",
          "iopub.status.busy": "2024-09-19T10:08:11.075419Z",
          "iopub.status.idle": "2024-09-19T10:57:03.408075Z",
          "shell.execute_reply": "2024-09-19T10:57:03.407041Z"
        },
        "papermill": {
          "duration": 2932.344887,
          "end_time": "2024-09-19T10:57:03.410630",
          "exception": false,
          "start_time": "2024-09-19T10:08:11.065743",
          "status": "completed"
        },
        "tags": [],
        "id": "2054df9d",
        "outputId": "82c5bfcb-d700-4edb-d18c-39c21f2b5201"
      },
      "outputs": [
        {
          "name": "stdout",
          "output_type": "stream",
          "text": [
            "Epoch 1/100\n",
            "5000/5000 - 273s - 55ms/step - accuracy: 0.7883 - loss: 0.4500 - val_accuracy: 0.8087 - val_loss: 0.4138\n",
            "Epoch 2/100\n",
            "5000/5000 - 265s - 53ms/step - accuracy: 0.8185 - loss: 0.4004 - val_accuracy: 0.8171 - val_loss: 0.3995\n",
            "Epoch 3/100\n",
            "5000/5000 - 266s - 53ms/step - accuracy: 0.8283 - loss: 0.3820 - val_accuracy: 0.8251 - val_loss: 0.3865\n",
            "Epoch 4/100\n",
            "5000/5000 - 267s - 53ms/step - accuracy: 0.8359 - loss: 0.3683 - val_accuracy: 0.8268 - val_loss: 0.3837\n",
            "Epoch 5/100\n",
            "5000/5000 - 266s - 53ms/step - accuracy: 0.8418 - loss: 0.3566 - val_accuracy: 0.8272 - val_loss: 0.3830\n",
            "Epoch 6/100\n",
            "5000/5000 - 265s - 53ms/step - accuracy: 0.8476 - loss: 0.3456 - val_accuracy: 0.8271 - val_loss: 0.3824\n",
            "Epoch 7/100\n",
            "5000/5000 - 266s - 53ms/step - accuracy: 0.8531 - loss: 0.3351 - val_accuracy: 0.8281 - val_loss: 0.3840\n",
            "Epoch 8/100\n",
            "5000/5000 - 267s - 53ms/step - accuracy: 0.8580 - loss: 0.3246 - val_accuracy: 0.8243 - val_loss: 0.3957\n",
            "Epoch 9/100\n",
            "5000/5000 - 266s - 53ms/step - accuracy: 0.8631 - loss: 0.3145 - val_accuracy: 0.8234 - val_loss: 0.4033\n",
            "Epoch 10/100\n",
            "5000/5000 - 266s - 53ms/step - accuracy: 0.8675 - loss: 0.3051 - val_accuracy: 0.8224 - val_loss: 0.4098\n",
            "Epoch 11/100\n",
            "5000/5000 - 266s - 53ms/step - accuracy: 0.8699 - loss: 0.3000 - val_accuracy: 0.8222 - val_loss: 0.4019\n"
          ]
        }
      ],
      "source": [
        "history = model.fit(\n",
        "    x=X_train,\n",
        "    y=y_train,\n",
        "    epochs=100,\n",
        "    batch_size=256,\n",
        "    validation_data=(X_test, y_test),\n",
        "    verbose=2,\n",
        "    callbacks=[early_stopping])"
      ]
    },
    {
      "cell_type": "markdown",
      "source": [
        "# Data plotting\n",
        "By looking at the chart below we can clearly see how validation performance was starting a downside trend, that would have lead to worse performance.\n",
        "The accuracy reached is 87.0% for training and 82.2% for validation.\n",
        "On the other hand, loss is 0.3 for accuracy, while 0.82 for validation."
      ],
      "metadata": {
        "id": "rl8MRjsadOX3"
      },
      "id": "rl8MRjsadOX3"
    },
    {
      "cell_type": "code",
      "execution_count": null,
      "id": "2456798c",
      "metadata": {
        "execution": {
          "iopub.execute_input": "2024-09-19T10:57:03.432464Z",
          "iopub.status.busy": "2024-09-19T10:57:03.431630Z",
          "iopub.status.idle": "2024-09-19T10:57:04.090088Z",
          "shell.execute_reply": "2024-09-19T10:57:04.089153Z"
        },
        "papermill": {
          "duration": 0.671655,
          "end_time": "2024-09-19T10:57:04.092251",
          "exception": false,
          "start_time": "2024-09-19T10:57:03.420596",
          "status": "completed"
        },
        "tags": [],
        "id": "2456798c",
        "outputId": "304d1acd-3639-4378-9187-86600d37337c"
      },
      "outputs": [
        {
          "data": {
            "image/png": "[encoded data removed]",
            "text/plain": [
              "<Figure size 1200x500 with 2 Axes>"
            ]
          },
          "metadata": {},
          "output_type": "display_data"
        }
      ],
      "source": [
        "import matplotlib.pyplot as plt\n",
        "\n",
        "# Extract the history data\n",
        "history_dict = history.history\n",
        "\n",
        "# Extract accuracy and loss for both training and validation\n",
        "accuracy = history_dict['accuracy']\n",
        "val_accuracy = history_dict['val_accuracy']\n",
        "loss = history_dict['loss']\n",
        "val_loss = history_dict['val_loss']\n",
        "\n",
        "# Get the number of epochs\n",
        "epochs = range(1, len(accuracy) + 1)\n",
        "\n",
        "# Create two subplots: one for accuracy and one for loss\n",
        "plt.figure(figsize=(12, 5))\n",
        "\n",
        "# Plot Accuracy\n",
        "plt.subplot(1, 2, 1)  # 1 row, 2 columns, 1st subplot\n",
        "plt.plot(epochs, accuracy, 'bo-', label='Training Accuracy')\n",
        "plt.plot(epochs, val_accuracy, 'ro-', label='Validation Accuracy')\n",
        "plt.title('Training and Validation Accuracy')\n",
        "plt.xlabel('Epochs')\n",
        "plt.ylabel('Accuracy')\n",
        "plt.legend()\n",
        "\n",
        "# Plot Loss\n",
        "plt.subplot(1, 2, 2)  # 1 row, 2 columns, 2nd subplot\n",
        "plt.plot(epochs, loss, 'bo-', label='Training Loss')\n",
        "plt.plot(epochs, val_loss, 'ro-', label='Validation Loss')\n",
        "plt.title('Training and Validation Loss')\n",
        "plt.xlabel('Epochs')\n",
        "plt.ylabel('Loss')\n",
        "plt.legend()\n",
        "\n",
        "# Show the plots\n",
        "plt.tight_layout()\n",
        "plt.show()"
      ]
    },
    {
      "cell_type": "markdown",
      "source": [
        "# Saving the model\n",
        "After training I saved the model to have the possibility to use it later without repeating the training.\n",
        "In addition, tokenizer, embeddings and configuration are saved."
      ],
      "metadata": {
        "id": "5Frl7TsceCse"
      },
      "id": "5Frl7TsceCse"
    },
    {
      "cell_type": "code",
      "execution_count": null,
      "id": "d06bc1e2",
      "metadata": {
        "execution": {
          "iopub.execute_input": "2024-09-19T10:57:04.115789Z",
          "iopub.status.busy": "2024-09-19T10:57:04.115427Z",
          "iopub.status.idle": "2024-09-19T10:57:04.744110Z",
          "shell.execute_reply": "2024-09-19T10:57:04.743069Z"
        },
        "papermill": {
          "duration": 0.642659,
          "end_time": "2024-09-19T10:57:04.746209",
          "exception": false,
          "start_time": "2024-09-19T10:57:04.103550",
          "status": "completed"
        },
        "tags": [],
        "id": "d06bc1e2",
        "outputId": "77843c1b-df2a-4082-cd7e-6d0cc8a7fc5b"
      },
      "outputs": [
        {
          "name": "stdout",
          "output_type": "stream",
          "text": [
            "Model and associated components saved successfully.\n"
          ]
        }
      ],
      "source": [
        "# 1. Model\n",
        "model.save('sentiment_model_v2.h5')\n",
        "\n",
        "# 2. Tokenizer\n",
        "with open('tokenizer.pickle', 'wb') as handle:\n",
        "    pickle.dump(tokenizer, handle, protocol=pickle.HIGHEST_PROTOCOL)\n",
        "\n",
        "# 3. GloVe embedding matrix\n",
        "np.save('glove_embedding_matrix.npy', embedding_matrix)\n",
        "\n",
        "# 4. Configuration\n",
        "config = {\n",
        "    'max_sequence_length': max_length,\n",
        "    'padding_strategy': 'post',\n",
        "    'truncating_strategy': 'post',\n",
        "    'vocab_size': vocab_size,\n",
        "    'embedding_dim': embedding_dim,\n",
        "}\n",
        "\n",
        "with open('model_config.json', 'w') as f:\n",
        "    json.dump(config, f)\n",
        "\n",
        "print(\"Model and associated components saved successfully.\")"
      ]
    },
    {
      "cell_type": "markdown",
      "source": [
        "# Streamlit interface\n",
        "In the same project you can also find a streamlit page using the model, that let you use the model to predict sentiment.\n",
        "Feel free to use it, but do not expect astonishing performance."
      ],
      "metadata": {
        "id": "f0WSWQ9SeW_0"
      },
      "id": "f0WSWQ9SeW_0"
    }
  ],
  "metadata": {
    "kaggle": {
      "accelerator": "gpu",
      "dataSources": [
        {
          "datasetId": 2477,
          "sourceId": 4140,
          "sourceType": "datasetVersion"
        },
        {
          "datasetId": 5728971,
          "sourceId": 9430072,
          "sourceType": "datasetVersion"
        }
      ],
      "dockerImageVersionId": 30761,
      "isGpuEnabled": true,
      "isInternetEnabled": true,
      "language": "python",
      "sourceType": "notebook"
    },
    "kernelspec": {
      "display_name": "Python 3",
      "language": "python",
      "name": "python3"
    },
    "language_info": {
      "codemirror_mode": {
        "name": "ipython",
        "version": 3
      },
      "file_extension": ".py",
      "mimetype": "text/x-python",
      "name": "python",
      "nbconvert_exporter": "python",
      "pygments_lexer": "ipython3",
      "version": "3.10.14"
    },
    "papermill": {
      "default_parameters": {},
      "duration": 3069.946972,
      "end_time": "2024-09-19T10:57:08.464723",
      "environment_variables": {},
      "exception": null,
      "input_path": "__notebook__.ipynb",
      "output_path": "__notebook__.ipynb",
      "parameters": {},
      "start_time": "2024-09-19T10:05:58.517751",
      "version": "2.6.0"
    },
    "colab": {
      "provenance": []
    }
  },
  "nbformat": 4,
  "nbformat_minor": 5
}