{
  "nbformat": 4,
  "nbformat_minor": 0,
  "metadata": {
    "colab": {
      "provenance": []
    },
    "kernelspec": {
      "name": "python3",
      "display_name": "Python 3"
    },
    "language_info": {
      "name": "python"
    }
  },
  "cells": [
    {
      "cell_type": "markdown",
      "source": [
        "# Convolutional Neural Network\n",
        "\n",
        "Convolutional Neural Networks (CNNs) are a specialized type of deep neural network designed to process data with a grid-like topology, such as images. Unlike traditional neural networks, which treat input data as a flat array, CNNs apply some filters to the image that let the network better extract features by using kernels learnt at training time.\n",
        "\n",
        "![Convolution diagram](https://editor.analyticsvidhya.com/uploads/94787Convolutional-Neural-Network.jpeg)\n",
        "\n",
        "## Key Components\n",
        "The key components of CNNs—convolutional layers, pooling layers, and fully connected layers—work together to extract and distill these features.\n",
        "1. **Convolutional Layers**: in convolutional layers the algorithm applies filters to the image, trying to extract relevant features of it. Each filter in a convolutional layer is essentially a small matrix that is convolved across the image.\n",
        "2. **Pooling Layers**: After detecting features, we want to reduce the dimensionality of the data while retaining the most important information.\n",
        "Pooling layers downsample the feature maps through operations like MaxPooling or AveragePooling, providing a smaller matrix at the end of the process.\n",
        "3. **Fully Connected Layers**: After extracting features we need to use what we discovered through layers to get to a final conclusion and maybe we want to assign a label to the image. We need some fully connected layers to predict the probability distribution across the possible classes.\n",
        "\n",
        "### Padding\n",
        "When we apply convolution to a $n\\times n$ image with a $f\\times f$ filter, the result will be a $n - f + 1 \\times n - f + 1$ matrix.\n",
        "In case we need to keep the dimensions and not shrink the output we need to apply some padding.\n",
        "In case of padding we are using a **same convolution** because it keeps the same dimensions. Otherwise we call it **valid convolution**.\n",
        "\n",
        "### Stride\n",
        "Another parameter we need to take care of when performing convolutions is the stride. It tells us how much we move right and down when we move with a filter on the image. Tweaking this parameter the output will change in dimension following this formula:\n",
        "$$\\bigg\\lfloor \\frac{n + 2p-f}{s}+1 \\bigg\\rfloor \\times \\bigg\\lfloor \\frac{n + 2p-f}{s}+1 \\bigg\\rfloor \\times n_f$$\n",
        "where $n_f$ is the number of filters we apply to the image.\n",
        "\n",
        "![Pooling](https://media.geeksforgeeks.org/wp-content/uploads/20190721025744/Screenshot-2019-07-21-at-2.57.13-AM.png)\n",
        "\n",
        "## Why Convolutions?\n",
        "The two main advantages are **parameters sharing** and **sparsity of connections**.\n",
        "- **Parameters sharing**: A feature detector (vertical edge detector, ...) that's useful in one part of the image is probably **useful in another part** of the image.\n",
        "- **Sparsity of connections**: In each layer, each output value depends only on a **small number of inputs**. It means that each cell is not computed based on the entire matrix, but starting from a part of it."
      ],
      "metadata": {
        "id": "XkRx_A-Ja7Cs"
      }
    },
    {
      "cell_type": "code",
      "execution_count": null,
      "metadata": {
        "id": "1jZtZ9mAOkKx"
      },
      "outputs": [],
      "source": [
        "import numpy as np\n",
        "import matplotlib.pyplot as plt\n",
        "import tensorflow_datasets as tfds\n",
        "from tensorflow.keras.models import Sequential\n",
        "from tensorflow.keras.layers import Flatten, Dense, Conv2D, ReLU, MaxPool2D\n",
        "from tensorflow.keras import Input\n",
        "from tensorflow.keras.optimizers import Adam\n",
        "from tensorflow import cast, float32\n",
        "from tensorflow.data.experimental import AUTOTUNE\n",
        "from tensorflow.keras.callbacks import Callback\n",
        "\n",
        "%matplotlib inline"
      ]
    },
    {
      "cell_type": "markdown",
      "source": [
        "# Dataset\n",
        "I am using a standard dataset provided by `tensorflow_datasets`, the **MNIST Digits** dataset.\n",
        "It is a collection of (28x28x1) hand-written digits.\n",
        "\n",
        "![MNIST dataset](https://upload.wikimedia.org/wikipedia/commons/f/f7/MnistExamplesModified.png)\n",
        "\n",
        "https://huggingface.co/datasets/ylecun/mnist."
      ],
      "metadata": {
        "id": "So7Mx5RXQhGe"
      }
    },
    {
      "cell_type": "code",
      "source": [
        "(ds_train, ds_test), ds_info = tfds.load(\n",
        "    'mnist',\n",
        "    split=['train', 'test'],\n",
        "    shuffle_files=True,\n",
        "    as_supervised=True,\n",
        "    with_info=True,\n",
        ")"
      ],
      "metadata": {
        "id": "eriP8-tzRYxu"
      },
      "execution_count": null,
      "outputs": []
    },
    {
      "cell_type": "code",
      "source": [
        "def normalize_img(image, label):\n",
        "    return cast(image, float32) / 255.0, label"
      ],
      "metadata": {
        "id": "mh2GD8NrRyq5"
      },
      "execution_count": null,
      "outputs": []
    },
    {
      "cell_type": "code",
      "source": [
        "bs = 32         # batch size\n",
        "lr = 0.001      # learning rate\n",
        "epochs = 100"
      ],
      "metadata": {
        "id": "yPR_T1tVUSJC"
      },
      "execution_count": null,
      "outputs": []
    },
    {
      "cell_type": "code",
      "source": [
        "ds_train = ds_train.map(normalize_img, num_parallel_calls=AUTOTUNE)\n",
        "ds_train = ds_train.cache()\n",
        "ds_train = ds_train.shuffle(ds_info.splits['train'].num_examples)\n",
        "ds_train = ds_train.batch(bs)\n",
        "ds_train = ds_train.prefetch(AUTOTUNE)\n",
        "\n",
        "ds_test = ds_test.map(normalize_img, num_parallel_calls=AUTOTUNE)\n",
        "ds_test = ds_test.batch(bs)\n",
        "ds_test = ds_test.cache()\n",
        "ds_test = ds_test.prefetch(AUTOTUNE)"
      ],
      "metadata": {
        "id": "5BcIR7a8Scgc"
      },
      "execution_count": null,
      "outputs": []
    },
    {
      "cell_type": "markdown",
      "source": [
        "## Callback\n",
        "I introduced a callback function in order to early stop the training based on the accuracy reached through epochs. It is a concept I have learnt during the [TensorFlow Developer Professional Certificate](https://www.coursera.org/professional-certificates/tensorflow-in-practice?) Specialization on Coursera, offered by [DeepLearning.AI](https://www.deeplearning.ai/)."
      ],
      "metadata": {
        "id": "-CBkfc5MRRYz"
      }
    },
    {
      "cell_type": "code",
      "source": [
        "class myCallback(Callback):\n",
        "  def on_epoch_end(self, epoch, logs={}):\n",
        "    if (logs.get('accuracy') > 0.99):\n",
        "      print('\\nAccuracy Reached!')\n",
        "      self.model.stop_training = True"
      ],
      "metadata": {
        "id": "74Mv8teUYC2V"
      },
      "execution_count": null,
      "outputs": []
    },
    {
      "cell_type": "code",
      "source": [
        "callbacks = myCallback()"
      ],
      "metadata": {
        "id": "siiwberfYeOk"
      },
      "execution_count": null,
      "outputs": []
    },
    {
      "cell_type": "markdown",
      "source": [
        "# Model\n",
        "Here I am defining the model, by stacking layers in the Sequential class.\n",
        "\n",
        "- `Input` layer: it defines the size of the input. In this case we expect `(28,28,1)` images.\n",
        "- `Conv2D` layers: These layers apply convolutional filters of different sizes to the input image. The `padding='same'` ensures that the output image has the same size as the input by adding padding where necessary.\n",
        "- `ReLU` layers: The Rectified Linear Unit (ReLU) activation function is applied to introduce non-linearity into the model, allowing it to learn more complex patterns.\n",
        "- `MaxPool2D` layers: These layers perform max pooling. It reduces the spatial dimensions of the image, keeping the most important features. The `padding='same'` ensures that the output dimensions remain consistent.\n",
        "- `Flatten` layer: Once we have finished with convolutions we need to flat data into a 1D vector.\n",
        "- `Dense` layer: It has 10 units, each corresponding to one of the 10 digit classes (0-9). The `softmax` activation function outputs a probability distribution over the classes, with the highest probability indicating the model's predicted class."
      ],
      "metadata": {
        "id": "q0wTbwsFSNro"
      }
    },
    {
      "cell_type": "code",
      "source": [
        "# Define the model\n",
        "model = Sequential([\n",
        "    Input(shape=(28, 28, 1)),\n",
        "    Conv2D(filters=8, kernel_size=(4, 4), strides=(1, 1), padding='same'),\n",
        "    ReLU(),\n",
        "    MaxPool2D(pool_size=(8, 8), strides=(8, 8), padding='same'),\n",
        "    Conv2D(filters=16, kernel_size=(2, 2), strides=(1, 1), padding='same'),\n",
        "    ReLU(),\n",
        "    MaxPool2D(pool_size=(4, 4), strides=(4, 4), padding='same'),\n",
        "    Flatten(),\n",
        "    Dense(units=10, activation='softmax')\n",
        "])\n",
        "\n",
        "# Define the optimizer\n",
        "opt = Adam(learning_rate=lr)\n",
        "\n",
        "# Compile the model\n",
        "model.compile(optimizer=opt, loss='sparse_categorical_crossentropy', metrics=['accuracy'])"
      ],
      "metadata": {
        "id": "I58oBLFDS4er"
      },
      "execution_count": null,
      "outputs": []
    },
    {
      "cell_type": "code",
      "source": [
        "history = model.fit(x=ds_train, validation_data=ds_test, epochs=epochs, callbacks=[callbacks])"
      ],
      "metadata": {
        "colab": {
          "base_uri": "https://localhost:8080/"
        },
        "id": "u8-ZWiBfUDvV",
        "outputId": "8ec3266d-7972-440b-bbec-a3d23486b61a"
      },
      "execution_count": null,
      "outputs": [
        {
          "output_type": "stream",
          "name": "stdout",
          "text": [
            "Epoch 1/100\n",
            "\u001b[1m1875/1875\u001b[0m \u001b[32m━━━━━━━━━━━━━━━━━━━━\u001b[0m\u001b[37m\u001b[0m \u001b[1m26s\u001b[0m 13ms/step - accuracy: 0.5090 - loss: 1.4855 - val_accuracy: 0.8632 - val_loss: 0.4728\n",
            "Epoch 2/100\n",
            "\u001b[1m1875/1875\u001b[0m \u001b[32m━━━━━━━━━━━━━━━━━━━━\u001b[0m\u001b[37m\u001b[0m \u001b[1m41s\u001b[0m 13ms/step - accuracy: 0.8677 - loss: 0.4315 - val_accuracy: 0.8982 - val_loss: 0.3215\n",
            "Epoch 3/100\n",
            "\u001b[1m1875/1875\u001b[0m \u001b[32m━━━━━━━━━━━━━━━━━━━━\u001b[0m\u001b[37m\u001b[0m \u001b[1m41s\u001b[0m 13ms/step - accuracy: 0.9007 - loss: 0.3249 - val_accuracy: 0.9167 - val_loss: 0.2605\n",
            "Epoch 4/100\n",
            "\u001b[1m1875/1875\u001b[0m \u001b[32m━━━━━━━━━━━━━━━━━━━━\u001b[0m\u001b[37m\u001b[0m \u001b[1m41s\u001b[0m 13ms/step - accuracy: 0.9144 - loss: 0.2733 - val_accuracy: 0.9248 - val_loss: 0.2343\n",
            "Epoch 5/100\n",
            "\u001b[1m1875/1875\u001b[0m \u001b[32m━━━━━━━━━━━━━━━━━━━━\u001b[0m\u001b[37m\u001b[0m \u001b[1m25s\u001b[0m 13ms/step - accuracy: 0.9236 - loss: 0.2390 - val_accuracy: 0.9256 - val_loss: 0.2264\n",
            "Epoch 6/100\n",
            "\u001b[1m1875/1875\u001b[0m \u001b[32m━━━━━━━━━━━━━━━━━━━━\u001b[0m\u001b[37m\u001b[0m \u001b[1m25s\u001b[0m 13ms/step - accuracy: 0.9312 - loss: 0.2212 - val_accuracy: 0.9343 - val_loss: 0.1951\n",
            "Epoch 7/100\n",
            "\u001b[1m1875/1875\u001b[0m \u001b[32m━━━━━━━━━━━━━━━━━━━━\u001b[0m\u001b[37m\u001b[0m \u001b[1m25s\u001b[0m 13ms/step - accuracy: 0.9367 - loss: 0.1985 - val_accuracy: 0.9366 - val_loss: 0.1908\n",
            "Epoch 8/100\n",
            "\u001b[1m1875/1875\u001b[0m \u001b[32m━━━━━━━━━━━━━━━━━━━━\u001b[0m\u001b[37m\u001b[0m \u001b[1m24s\u001b[0m 13ms/step - accuracy: 0.9417 - loss: 0.1864 - val_accuracy: 0.9438 - val_loss: 0.1728\n",
            "Epoch 9/100\n",
            "\u001b[1m1875/1875\u001b[0m \u001b[32m━━━━━━━━━━━━━━━━━━━━\u001b[0m\u001b[37m\u001b[0m \u001b[1m25s\u001b[0m 13ms/step - accuracy: 0.9419 - loss: 0.1826 - val_accuracy: 0.9445 - val_loss: 0.1631\n",
            "Epoch 10/100\n",
            "\u001b[1m1875/1875\u001b[0m \u001b[32m━━━━━━━━━━━━━━━━━━━━\u001b[0m\u001b[37m\u001b[0m \u001b[1m25s\u001b[0m 13ms/step - accuracy: 0.9451 - loss: 0.1732 - val_accuracy: 0.9434 - val_loss: 0.1648\n",
            "Epoch 11/100\n",
            "\u001b[1m1875/1875\u001b[0m \u001b[32m━━━━━━━━━━━━━━━━━━━━\u001b[0m\u001b[37m\u001b[0m \u001b[1m41s\u001b[0m 13ms/step - accuracy: 0.9487 - loss: 0.1626 - val_accuracy: 0.9481 - val_loss: 0.1507\n",
            "Epoch 12/100\n",
            "\u001b[1m1875/1875\u001b[0m \u001b[32m━━━━━━━━━━━━━━━━━━━━\u001b[0m\u001b[37m\u001b[0m \u001b[1m41s\u001b[0m 13ms/step - accuracy: 0.9514 - loss: 0.1602 - val_accuracy: 0.9494 - val_loss: 0.1475\n",
            "Epoch 13/100\n",
            "\u001b[1m1875/1875\u001b[0m \u001b[32m━━━━━━━━━━━━━━━━━━━━\u001b[0m\u001b[37m\u001b[0m \u001b[1m41s\u001b[0m 13ms/step - accuracy: 0.9503 - loss: 0.1568 - val_accuracy: 0.9519 - val_loss: 0.1415\n",
            "Epoch 14/100\n",
            "\u001b[1m1875/1875\u001b[0m \u001b[32m━━━━━━━━━━━━━━━━━━━━\u001b[0m\u001b[37m\u001b[0m \u001b[1m41s\u001b[0m 13ms/step - accuracy: 0.9534 - loss: 0.1513 - val_accuracy: 0.9527 - val_loss: 0.1331\n",
            "Epoch 15/100\n",
            "\u001b[1m1875/1875\u001b[0m \u001b[32m━━━━━━━━━━━━━━━━━━━━\u001b[0m\u001b[37m\u001b[0m \u001b[1m41s\u001b[0m 13ms/step - accuracy: 0.9529 - loss: 0.1468 - val_accuracy: 0.9544 - val_loss: 0.1320\n",
            "Epoch 16/100\n",
            "\u001b[1m1875/1875\u001b[0m \u001b[32m━━━━━━━━━━━━━━━━━━━━\u001b[0m\u001b[37m\u001b[0m \u001b[1m25s\u001b[0m 13ms/step - accuracy: 0.9536 - loss: 0.1440 - val_accuracy: 0.9533 - val_loss: 0.1382\n",
            "Epoch 17/100\n",
            "\u001b[1m1875/1875\u001b[0m \u001b[32m━━━━━━━━━━━━━━━━━━━━\u001b[0m\u001b[37m\u001b[0m \u001b[1m25s\u001b[0m 13ms/step - accuracy: 0.9556 - loss: 0.1431 - val_accuracy: 0.9571 - val_loss: 0.1266\n",
            "Epoch 18/100\n",
            "\u001b[1m1875/1875\u001b[0m \u001b[32m━━━━━━━━━━━━━━━━━━━━\u001b[0m\u001b[37m\u001b[0m \u001b[1m41s\u001b[0m 13ms/step - accuracy: 0.9565 - loss: 0.1390 - val_accuracy: 0.9543 - val_loss: 0.1365\n",
            "Epoch 19/100\n",
            "\u001b[1m1875/1875\u001b[0m \u001b[32m━━━━━━━━━━━━━━━━━━━━\u001b[0m\u001b[37m\u001b[0m \u001b[1m41s\u001b[0m 13ms/step - accuracy: 0.9553 - loss: 0.1396 - val_accuracy: 0.9562 - val_loss: 0.1272\n",
            "Epoch 20/100\n",
            "\u001b[1m1875/1875\u001b[0m \u001b[32m━━━━━━━━━━━━━━━━━━━━\u001b[0m\u001b[37m\u001b[0m \u001b[1m41s\u001b[0m 13ms/step - accuracy: 0.9578 - loss: 0.1353 - val_accuracy: 0.9571 - val_loss: 0.1239\n",
            "Epoch 21/100\n",
            "\u001b[1m1875/1875\u001b[0m \u001b[32m━━━━━━━━━━━━━━━━━━━━\u001b[0m\u001b[37m\u001b[0m \u001b[1m41s\u001b[0m 13ms/step - accuracy: 0.9582 - loss: 0.1330 - val_accuracy: 0.9582 - val_loss: 0.1236\n",
            "Epoch 22/100\n",
            "\u001b[1m1875/1875\u001b[0m \u001b[32m━━━━━━━━━━━━━━━━━━━━\u001b[0m\u001b[37m\u001b[0m \u001b[1m41s\u001b[0m 13ms/step - accuracy: 0.9584 - loss: 0.1315 - val_accuracy: 0.9590 - val_loss: 0.1244\n",
            "Epoch 23/100\n",
            "\u001b[1m1875/1875\u001b[0m \u001b[32m━━━━━━━━━━━━━━━━━━━━\u001b[0m\u001b[37m\u001b[0m \u001b[1m41s\u001b[0m 13ms/step - accuracy: 0.9598 - loss: 0.1278 - val_accuracy: 0.9616 - val_loss: 0.1227\n",
            "Epoch 24/100\n",
            "\u001b[1m1875/1875\u001b[0m \u001b[32m━━━━━━━━━━━━━━━━━━━━\u001b[0m\u001b[37m\u001b[0m \u001b[1m41s\u001b[0m 14ms/step - accuracy: 0.9601 - loss: 0.1253 - val_accuracy: 0.9565 - val_loss: 0.1303\n",
            "Epoch 25/100\n",
            "\u001b[1m1875/1875\u001b[0m \u001b[32m━━━━━━━━━━━━━━━━━━━━\u001b[0m\u001b[37m\u001b[0m \u001b[1m25s\u001b[0m 13ms/step - accuracy: 0.9619 - loss: 0.1210 - val_accuracy: 0.9576 - val_loss: 0.1286\n",
            "Epoch 26/100\n",
            "\u001b[1m1875/1875\u001b[0m \u001b[32m━━━━━━━━━━━━━━━━━━━━\u001b[0m\u001b[37m\u001b[0m \u001b[1m41s\u001b[0m 13ms/step - accuracy: 0.9606 - loss: 0.1233 - val_accuracy: 0.9599 - val_loss: 0.1213\n",
            "Epoch 27/100\n",
            "\u001b[1m1875/1875\u001b[0m \u001b[32m━━━━━━━━━━━━━━━━━━━━\u001b[0m\u001b[37m\u001b[0m \u001b[1m25s\u001b[0m 13ms/step - accuracy: 0.9610 - loss: 0.1229 - val_accuracy: 0.9600 - val_loss: 0.1190\n",
            "Epoch 28/100\n",
            "\u001b[1m1875/1875\u001b[0m \u001b[32m━━━━━━━━━━━━━━━━━━━━\u001b[0m\u001b[37m\u001b[0m \u001b[1m41s\u001b[0m 13ms/step - accuracy: 0.9608 - loss: 0.1247 - val_accuracy: 0.9608 - val_loss: 0.1194\n",
            "Epoch 29/100\n",
            "\u001b[1m1875/1875\u001b[0m \u001b[32m━━━━━━━━━━━━━━━━━━━━\u001b[0m\u001b[37m\u001b[0m \u001b[1m25s\u001b[0m 13ms/step - accuracy: 0.9630 - loss: 0.1175 - val_accuracy: 0.9617 - val_loss: 0.1153\n",
            "Epoch 30/100\n",
            "\u001b[1m1875/1875\u001b[0m \u001b[32m━━━━━━━━━━━━━━━━━━━━\u001b[0m\u001b[37m\u001b[0m \u001b[1m41s\u001b[0m 13ms/step - accuracy: 0.9610 - loss: 0.1237 - val_accuracy: 0.9595 - val_loss: 0.1241\n",
            "Epoch 31/100\n",
            "\u001b[1m1875/1875\u001b[0m \u001b[32m━━━━━━━━━━━━━━━━━━━━\u001b[0m\u001b[37m\u001b[0m \u001b[1m25s\u001b[0m 13ms/step - accuracy: 0.9616 - loss: 0.1233 - val_accuracy: 0.9636 - val_loss: 0.1140\n",
            "Epoch 32/100\n",
            "\u001b[1m1875/1875\u001b[0m \u001b[32m━━━━━━━━━━━━━━━━━━━━\u001b[0m\u001b[37m\u001b[0m \u001b[1m25s\u001b[0m 13ms/step - accuracy: 0.9624 - loss: 0.1186 - val_accuracy: 0.9645 - val_loss: 0.1159\n",
            "Epoch 33/100\n",
            "\u001b[1m1875/1875\u001b[0m \u001b[32m━━━━━━━━━━━━━━━━━━━━\u001b[0m\u001b[37m\u001b[0m \u001b[1m24s\u001b[0m 13ms/step - accuracy: 0.9640 - loss: 0.1147 - val_accuracy: 0.9617 - val_loss: 0.1172\n",
            "Epoch 34/100\n",
            "\u001b[1m1875/1875\u001b[0m \u001b[32m━━━━━━━━━━━━━━━━━━━━\u001b[0m\u001b[37m\u001b[0m \u001b[1m25s\u001b[0m 13ms/step - accuracy: 0.9630 - loss: 0.1168 - val_accuracy: 0.9650 - val_loss: 0.1125\n",
            "Epoch 35/100\n",
            "\u001b[1m1875/1875\u001b[0m \u001b[32m━━━━━━━━━━━━━━━━━━━━\u001b[0m\u001b[37m\u001b[0m \u001b[1m40s\u001b[0m 13ms/step - accuracy: 0.9661 - loss: 0.1082 - val_accuracy: 0.9660 - val_loss: 0.1030\n",
            "Epoch 36/100\n",
            "\u001b[1m1875/1875\u001b[0m \u001b[32m━━━━━━━━━━━━━━━━━━━━\u001b[0m\u001b[37m\u001b[0m \u001b[1m42s\u001b[0m 13ms/step - accuracy: 0.9641 - loss: 0.1132 - val_accuracy: 0.9656 - val_loss: 0.1127\n",
            "Epoch 37/100\n",
            "\u001b[1m1875/1875\u001b[0m \u001b[32m━━━━━━━━━━━━━━━━━━━━\u001b[0m\u001b[37m\u001b[0m \u001b[1m25s\u001b[0m 13ms/step - accuracy: 0.9633 - loss: 0.1140 - val_accuracy: 0.9638 - val_loss: 0.1130\n",
            "Epoch 38/100\n",
            "\u001b[1m1875/1875\u001b[0m \u001b[32m━━━━━━━━━━━━━━━━━━━━\u001b[0m\u001b[37m\u001b[0m \u001b[1m24s\u001b[0m 13ms/step - accuracy: 0.9642 - loss: 0.1119 - val_accuracy: 0.9634 - val_loss: 0.1084\n",
            "Epoch 39/100\n",
            "\u001b[1m1875/1875\u001b[0m \u001b[32m━━━━━━━━━━━━━━━━━━━━\u001b[0m\u001b[37m\u001b[0m \u001b[1m42s\u001b[0m 13ms/step - accuracy: 0.9628 - loss: 0.1127 - val_accuracy: 0.9669 - val_loss: 0.1028\n",
            "Epoch 40/100\n",
            "\u001b[1m1875/1875\u001b[0m \u001b[32m━━━━━━━━━━━━━━━━━━━━\u001b[0m\u001b[37m\u001b[0m \u001b[1m24s\u001b[0m 13ms/step - accuracy: 0.9651 - loss: 0.1103 - val_accuracy: 0.9625 - val_loss: 0.1153\n",
            "Epoch 41/100\n",
            "\u001b[1m1875/1875\u001b[0m \u001b[32m━━━━━━━━━━━━━━━━━━━━\u001b[0m\u001b[37m\u001b[0m \u001b[1m42s\u001b[0m 13ms/step - accuracy: 0.9669 - loss: 0.1067 - val_accuracy: 0.9651 - val_loss: 0.1078\n",
            "Epoch 42/100\n",
            "\u001b[1m1875/1875\u001b[0m \u001b[32m━━━━━━━━━━━━━━━━━━━━\u001b[0m\u001b[37m\u001b[0m \u001b[1m25s\u001b[0m 13ms/step - accuracy: 0.9665 - loss: 0.1067 - val_accuracy: 0.9645 - val_loss: 0.1079\n",
            "Epoch 43/100\n",
            "\u001b[1m1875/1875\u001b[0m \u001b[32m━━━━━━━━━━━━━━━━━━━━\u001b[0m\u001b[37m\u001b[0m \u001b[1m41s\u001b[0m 13ms/step - accuracy: 0.9651 - loss: 0.1073 - val_accuracy: 0.9671 - val_loss: 0.1050\n",
            "Epoch 44/100\n",
            "\u001b[1m1875/1875\u001b[0m \u001b[32m━━━━━━━━━━━━━━━━━━━━\u001b[0m\u001b[37m\u001b[0m \u001b[1m41s\u001b[0m 13ms/step - accuracy: 0.9652 - loss: 0.1089 - val_accuracy: 0.9658 - val_loss: 0.1063\n",
            "Epoch 45/100\n",
            "\u001b[1m1875/1875\u001b[0m \u001b[32m━━━━━━━━━━━━━━━━━━━━\u001b[0m\u001b[37m\u001b[0m \u001b[1m41s\u001b[0m 14ms/step - accuracy: 0.9645 - loss: 0.1101 - val_accuracy: 0.9658 - val_loss: 0.1059\n",
            "Epoch 46/100\n",
            "\u001b[1m1875/1875\u001b[0m \u001b[32m━━━━━━━━━━━━━━━━━━━━\u001b[0m\u001b[37m\u001b[0m \u001b[1m41s\u001b[0m 14ms/step - accuracy: 0.9668 - loss: 0.1093 - val_accuracy: 0.9672 - val_loss: 0.1073\n",
            "Epoch 47/100\n",
            "\u001b[1m1875/1875\u001b[0m \u001b[32m━━━━━━━━━━━━━━━━━━━━\u001b[0m\u001b[37m\u001b[0m \u001b[1m41s\u001b[0m 13ms/step - accuracy: 0.9678 - loss: 0.1034 - val_accuracy: 0.9644 - val_loss: 0.1101\n",
            "Epoch 48/100\n",
            "\u001b[1m1875/1875\u001b[0m \u001b[32m━━━━━━━━━━━━━━━━━━━━\u001b[0m\u001b[37m\u001b[0m \u001b[1m25s\u001b[0m 13ms/step - accuracy: 0.9663 - loss: 0.1067 - val_accuracy: 0.9665 - val_loss: 0.1047\n",
            "Epoch 49/100\n",
            "\u001b[1m1875/1875\u001b[0m \u001b[32m━━━━━━━━━━━━━━━━━━━━\u001b[0m\u001b[37m\u001b[0m \u001b[1m41s\u001b[0m 13ms/step - accuracy: 0.9659 - loss: 0.1094 - val_accuracy: 0.9671 - val_loss: 0.1004\n",
            "Epoch 50/100\n",
            "\u001b[1m1875/1875\u001b[0m \u001b[32m━━━━━━━━━━━━━━━━━━━━\u001b[0m\u001b[37m\u001b[0m \u001b[1m40s\u001b[0m 13ms/step - accuracy: 0.9663 - loss: 0.1046 - val_accuracy: 0.9661 - val_loss: 0.1076\n",
            "Epoch 51/100\n",
            "\u001b[1m1875/1875\u001b[0m \u001b[32m━━━━━━━━━━━━━━━━━━━━\u001b[0m\u001b[37m\u001b[0m \u001b[1m41s\u001b[0m 13ms/step - accuracy: 0.9665 - loss: 0.1046 - val_accuracy: 0.9669 - val_loss: 0.0986\n",
            "Epoch 52/100\n",
            "\u001b[1m1875/1875\u001b[0m \u001b[32m━━━━━━━━━━━━━━━━━━━━\u001b[0m\u001b[37m\u001b[0m \u001b[1m42s\u001b[0m 14ms/step - accuracy: 0.9674 - loss: 0.1020 - val_accuracy: 0.9627 - val_loss: 0.1132\n",
            "Epoch 53/100\n",
            "\u001b[1m1875/1875\u001b[0m \u001b[32m━━━━━━━━━━━━━━━━━━━━\u001b[0m\u001b[37m\u001b[0m \u001b[1m25s\u001b[0m 14ms/step - accuracy: 0.9670 - loss: 0.1026 - val_accuracy: 0.9644 - val_loss: 0.1088\n",
            "Epoch 54/100\n",
            "\u001b[1m1875/1875\u001b[0m \u001b[32m━━━━━━━━━━━━━━━━━━━━\u001b[0m\u001b[37m\u001b[0m \u001b[1m41s\u001b[0m 13ms/step - accuracy: 0.9671 - loss: 0.1041 - val_accuracy: 0.9630 - val_loss: 0.1103\n",
            "Epoch 55/100\n",
            "\u001b[1m1875/1875\u001b[0m \u001b[32m━━━━━━━━━━━━━━━━━━━━\u001b[0m\u001b[37m\u001b[0m \u001b[1m42s\u001b[0m 14ms/step - accuracy: 0.9673 - loss: 0.1014 - val_accuracy: 0.9645 - val_loss: 0.1117\n",
            "Epoch 56/100\n",
            "\u001b[1m1875/1875\u001b[0m \u001b[32m━━━━━━━━━━━━━━━━━━━━\u001b[0m\u001b[37m\u001b[0m \u001b[1m40s\u001b[0m 13ms/step - accuracy: 0.9693 - loss: 0.0988 - val_accuracy: 0.9663 - val_loss: 0.1012\n",
            "Epoch 57/100\n",
            "\u001b[1m1875/1875\u001b[0m \u001b[32m━━━━━━━━━━━━━━━━━━━━\u001b[0m\u001b[37m\u001b[0m \u001b[1m41s\u001b[0m 13ms/step - accuracy: 0.9672 - loss: 0.1029 - val_accuracy: 0.9648 - val_loss: 0.1065\n",
            "Epoch 58/100\n",
            "\u001b[1m1875/1875\u001b[0m \u001b[32m━━━━━━━━━━━━━━━━━━━━\u001b[0m\u001b[37m\u001b[0m \u001b[1m41s\u001b[0m 13ms/step - accuracy: 0.9680 - loss: 0.1031 - val_accuracy: 0.9645 - val_loss: 0.1076\n",
            "Epoch 59/100\n",
            "\u001b[1m1875/1875\u001b[0m \u001b[32m━━━━━━━━━━━━━━━━━━━━\u001b[0m\u001b[37m\u001b[0m \u001b[1m40s\u001b[0m 13ms/step - accuracy: 0.9660 - loss: 0.1038 - val_accuracy: 0.9672 - val_loss: 0.1018\n",
            "Epoch 60/100\n",
            "\u001b[1m1875/1875\u001b[0m \u001b[32m━━━━━━━━━━━━━━━━━━━━\u001b[0m\u001b[37m\u001b[0m \u001b[1m42s\u001b[0m 13ms/step - accuracy: 0.9676 - loss: 0.1016 - val_accuracy: 0.9626 - val_loss: 0.1134\n",
            "Epoch 61/100\n",
            "\u001b[1m1875/1875\u001b[0m \u001b[32m━━━━━━━━━━━━━━━━━━━━\u001b[0m\u001b[37m\u001b[0m \u001b[1m41s\u001b[0m 14ms/step - accuracy: 0.9691 - loss: 0.0976 - val_accuracy: 0.9637 - val_loss: 0.1137\n",
            "Epoch 62/100\n",
            "\u001b[1m1875/1875\u001b[0m \u001b[32m━━━━━━━━━━━━━━━━━━━━\u001b[0m\u001b[37m\u001b[0m \u001b[1m41s\u001b[0m 13ms/step - accuracy: 0.9690 - loss: 0.1001 - val_accuracy: 0.9645 - val_loss: 0.1084\n",
            "Epoch 63/100\n",
            "\u001b[1m1875/1875\u001b[0m \u001b[32m━━━━━━━━━━━━━━━━━━━━\u001b[0m\u001b[37m\u001b[0m \u001b[1m41s\u001b[0m 14ms/step - accuracy: 0.9673 - loss: 0.1019 - val_accuracy: 0.9676 - val_loss: 0.1012\n",
            "Epoch 64/100\n",
            "\u001b[1m1875/1875\u001b[0m \u001b[32m━━━━━━━━━━━━━━━━━━━━\u001b[0m\u001b[37m\u001b[0m \u001b[1m41s\u001b[0m 14ms/step - accuracy: 0.9683 - loss: 0.0991 - val_accuracy: 0.9646 - val_loss: 0.1119\n",
            "Epoch 65/100\n",
            "\u001b[1m1875/1875\u001b[0m \u001b[32m━━━━━━━━━━━━━━━━━━━━\u001b[0m\u001b[37m\u001b[0m \u001b[1m25s\u001b[0m 13ms/step - accuracy: 0.9680 - loss: 0.0995 - val_accuracy: 0.9619 - val_loss: 0.1146\n",
            "Epoch 66/100\n",
            "\u001b[1m1875/1875\u001b[0m \u001b[32m━━━━━━━━━━━━━━━━━━━━\u001b[0m\u001b[37m\u001b[0m \u001b[1m26s\u001b[0m 14ms/step - accuracy: 0.9694 - loss: 0.0973 - val_accuracy: 0.9627 - val_loss: 0.1120\n",
            "Epoch 67/100\n",
            "\u001b[1m1875/1875\u001b[0m \u001b[32m━━━━━━━━━━━━━━━━━━━━\u001b[0m\u001b[37m\u001b[0m \u001b[1m25s\u001b[0m 13ms/step - accuracy: 0.9683 - loss: 0.0993 - val_accuracy: 0.9653 - val_loss: 0.1054\n",
            "Epoch 68/100\n",
            "\u001b[1m1875/1875\u001b[0m \u001b[32m━━━━━━━━━━━━━━━━━━━━\u001b[0m\u001b[37m\u001b[0m \u001b[1m45s\u001b[0m 15ms/step - accuracy: 0.9683 - loss: 0.1001 - val_accuracy: 0.9654 - val_loss: 0.1060\n",
            "Epoch 69/100\n",
            "\u001b[1m1875/1875\u001b[0m \u001b[32m━━━━━━━━━━━━━━━━━━━━\u001b[0m\u001b[37m\u001b[0m \u001b[1m26s\u001b[0m 14ms/step - accuracy: 0.9699 - loss: 0.0925 - val_accuracy: 0.9670 - val_loss: 0.1063\n",
            "Epoch 70/100\n",
            "\u001b[1m1875/1875\u001b[0m \u001b[32m━━━━━━━━━━━━━━━━━━━━\u001b[0m\u001b[37m\u001b[0m \u001b[1m41s\u001b[0m 14ms/step - accuracy: 0.9685 - loss: 0.0989 - val_accuracy: 0.9657 - val_loss: 0.1066\n",
            "Epoch 71/100\n",
            "\u001b[1m1875/1875\u001b[0m \u001b[32m━━━━━━━━━━━━━━━━━━━━\u001b[0m\u001b[37m\u001b[0m \u001b[1m26s\u001b[0m 14ms/step - accuracy: 0.9703 - loss: 0.0968 - val_accuracy: 0.9649 - val_loss: 0.1107\n",
            "Epoch 72/100\n",
            "\u001b[1m1875/1875\u001b[0m \u001b[32m━━━━━━━━━━━━━━━━━━━━\u001b[0m\u001b[37m\u001b[0m \u001b[1m40s\u001b[0m 13ms/step - accuracy: 0.9689 - loss: 0.0968 - val_accuracy: 0.9650 - val_loss: 0.1093\n",
            "Epoch 73/100\n",
            "\u001b[1m1875/1875\u001b[0m \u001b[32m━━━━━━━━━━━━━━━━━━━━\u001b[0m\u001b[37m\u001b[0m \u001b[1m41s\u001b[0m 14ms/step - accuracy: 0.9702 - loss: 0.0930 - val_accuracy: 0.9681 - val_loss: 0.1012\n",
            "Epoch 74/100\n",
            "\u001b[1m1875/1875\u001b[0m \u001b[32m━━━━━━━━━━━━━━━━━━━━\u001b[0m\u001b[37m\u001b[0m \u001b[1m42s\u001b[0m 14ms/step - accuracy: 0.9681 - loss: 0.0982 - val_accuracy: 0.9617 - val_loss: 0.1178\n",
            "Epoch 75/100\n",
            "\u001b[1m1875/1875\u001b[0m \u001b[32m━━━━━━━━━━━━━━━━━━━━\u001b[0m\u001b[37m\u001b[0m \u001b[1m39s\u001b[0m 13ms/step - accuracy: 0.9694 - loss: 0.0972 - val_accuracy: 0.9659 - val_loss: 0.1042\n",
            "Epoch 76/100\n",
            "\u001b[1m1875/1875\u001b[0m \u001b[32m━━━━━━━━━━━━━━━━━━━━\u001b[0m\u001b[37m\u001b[0m \u001b[1m25s\u001b[0m 13ms/step - accuracy: 0.9689 - loss: 0.0963 - val_accuracy: 0.9683 - val_loss: 0.1028\n",
            "Epoch 77/100\n",
            "\u001b[1m1875/1875\u001b[0m \u001b[32m━━━━━━━━━━━━━━━━━━━━\u001b[0m\u001b[37m\u001b[0m \u001b[1m40s\u001b[0m 13ms/step - accuracy: 0.9683 - loss: 0.0974 - val_accuracy: 0.9650 - val_loss: 0.1051\n",
            "Epoch 78/100\n",
            "\u001b[1m1875/1875\u001b[0m \u001b[32m━━━━━━━━━━━━━━━━━━━━\u001b[0m\u001b[37m\u001b[0m \u001b[1m42s\u001b[0m 14ms/step - accuracy: 0.9692 - loss: 0.0943 - val_accuracy: 0.9667 - val_loss: 0.1070\n",
            "Epoch 79/100\n",
            "\u001b[1m1875/1875\u001b[0m \u001b[32m━━━━━━━━━━━━━━━━━━━━\u001b[0m\u001b[37m\u001b[0m \u001b[1m24s\u001b[0m 13ms/step - accuracy: 0.9694 - loss: 0.0954 - val_accuracy: 0.9640 - val_loss: 0.1107\n",
            "Epoch 80/100\n",
            "\u001b[1m1875/1875\u001b[0m \u001b[32m━━━━━━━━━━━━━━━━━━━━\u001b[0m\u001b[37m\u001b[0m \u001b[1m25s\u001b[0m 14ms/step - accuracy: 0.9699 - loss: 0.0960 - val_accuracy: 0.9648 - val_loss: 0.1102\n",
            "Epoch 81/100\n",
            "\u001b[1m1875/1875\u001b[0m \u001b[32m━━━━━━━━━━━━━━━━━━━━\u001b[0m\u001b[37m\u001b[0m \u001b[1m25s\u001b[0m 13ms/step - accuracy: 0.9698 - loss: 0.0953 - val_accuracy: 0.9666 - val_loss: 0.1068\n",
            "Epoch 82/100\n",
            "\u001b[1m1875/1875\u001b[0m \u001b[32m━━━━━━━━━━━━━━━━━━━━\u001b[0m\u001b[37m\u001b[0m \u001b[1m41s\u001b[0m 13ms/step - accuracy: 0.9693 - loss: 0.0968 - val_accuracy: 0.9657 - val_loss: 0.1062\n",
            "Epoch 83/100\n",
            "\u001b[1m1875/1875\u001b[0m \u001b[32m━━━━━━━━━━━━━━━━━━━━\u001b[0m\u001b[37m\u001b[0m \u001b[1m39s\u001b[0m 13ms/step - accuracy: 0.9692 - loss: 0.0964 - val_accuracy: 0.9655 - val_loss: 0.1066\n",
            "Epoch 84/100\n",
            "\u001b[1m1875/1875\u001b[0m \u001b[32m━━━━━━━━━━━━━━━━━━━━\u001b[0m\u001b[37m\u001b[0m \u001b[1m25s\u001b[0m 13ms/step - accuracy: 0.9696 - loss: 0.0957 - val_accuracy: 0.9661 - val_loss: 0.1056\n",
            "Epoch 85/100\n",
            "\u001b[1m1875/1875\u001b[0m \u001b[32m━━━━━━━━━━━━━━━━━━━━\u001b[0m\u001b[37m\u001b[0m \u001b[1m25s\u001b[0m 13ms/step - accuracy: 0.9694 - loss: 0.0949 - val_accuracy: 0.9658 - val_loss: 0.1059\n",
            "Epoch 86/100\n",
            "\u001b[1m1875/1875\u001b[0m \u001b[32m━━━━━━━━━━━━━━━━━━━━\u001b[0m\u001b[37m\u001b[0m \u001b[1m42s\u001b[0m 14ms/step - accuracy: 0.9687 - loss: 0.0967 - val_accuracy: 0.9635 - val_loss: 0.1129\n",
            "Epoch 87/100\n",
            "\u001b[1m1875/1875\u001b[0m \u001b[32m━━━━━━━━━━━━━━━━━━━━\u001b[0m\u001b[37m\u001b[0m \u001b[1m41s\u001b[0m 14ms/step - accuracy: 0.9682 - loss: 0.0998 - val_accuracy: 0.9661 - val_loss: 0.1046\n",
            "Epoch 88/100\n",
            "\u001b[1m1875/1875\u001b[0m \u001b[32m━━━━━━━━━━━━━━━━━━━━\u001b[0m\u001b[37m\u001b[0m \u001b[1m26s\u001b[0m 14ms/step - accuracy: 0.9697 - loss: 0.0950 - val_accuracy: 0.9683 - val_loss: 0.1016\n",
            "Epoch 89/100\n",
            "\u001b[1m1875/1875\u001b[0m \u001b[32m━━━━━━━━━━━━━━━━━━━━\u001b[0m\u001b[37m\u001b[0m \u001b[1m41s\u001b[0m 14ms/step - accuracy: 0.9699 - loss: 0.0928 - val_accuracy: 0.9663 - val_loss: 0.1061\n",
            "Epoch 90/100\n",
            "\u001b[1m1875/1875\u001b[0m \u001b[32m━━━━━━━━━━━━━━━━━━━━\u001b[0m\u001b[37m\u001b[0m \u001b[1m41s\u001b[0m 14ms/step - accuracy: 0.9707 - loss: 0.0914 - val_accuracy: 0.9663 - val_loss: 0.1074\n",
            "Epoch 91/100\n",
            "\u001b[1m1875/1875\u001b[0m \u001b[32m━━━━━━━━━━━━━━━━━━━━\u001b[0m\u001b[37m\u001b[0m \u001b[1m42s\u001b[0m 14ms/step - accuracy: 0.9712 - loss: 0.0910 - val_accuracy: 0.9662 - val_loss: 0.1049\n",
            "Epoch 92/100\n",
            "\u001b[1m1875/1875\u001b[0m \u001b[32m━━━━━━━━━━━━━━━━━━━━\u001b[0m\u001b[37m\u001b[0m \u001b[1m26s\u001b[0m 14ms/step - accuracy: 0.9699 - loss: 0.0926 - val_accuracy: 0.9605 - val_loss: 0.1213\n",
            "Epoch 93/100\n",
            "\u001b[1m1875/1875\u001b[0m \u001b[32m━━━━━━━━━━━━━━━━━━━━\u001b[0m\u001b[37m\u001b[0m \u001b[1m41s\u001b[0m 14ms/step - accuracy: 0.9705 - loss: 0.0935 - val_accuracy: 0.9674 - val_loss: 0.1019\n",
            "Epoch 94/100\n",
            "\u001b[1m1875/1875\u001b[0m \u001b[32m━━━━━━━━━━━━━━━━━━━━\u001b[0m\u001b[37m\u001b[0m \u001b[1m42s\u001b[0m 14ms/step - accuracy: 0.9701 - loss: 0.0946 - val_accuracy: 0.9659 - val_loss: 0.1043\n",
            "Epoch 95/100\n",
            "\u001b[1m1875/1875\u001b[0m \u001b[32m━━━━━━━━━━━━━━━━━━━━\u001b[0m\u001b[37m\u001b[0m \u001b[1m41s\u001b[0m 14ms/step - accuracy: 0.9693 - loss: 0.0954 - val_accuracy: 0.9670 - val_loss: 0.1074\n",
            "Epoch 96/100\n",
            "\u001b[1m1875/1875\u001b[0m \u001b[32m━━━━━━━━━━━━━━━━━━━━\u001b[0m\u001b[37m\u001b[0m \u001b[1m41s\u001b[0m 14ms/step - accuracy: 0.9708 - loss: 0.0918 - val_accuracy: 0.9642 - val_loss: 0.1081\n",
            "Epoch 97/100\n",
            "\u001b[1m1875/1875\u001b[0m \u001b[32m━━━━━━━━━━━━━━━━━━━━\u001b[0m\u001b[37m\u001b[0m \u001b[1m41s\u001b[0m 14ms/step - accuracy: 0.9707 - loss: 0.0948 - val_accuracy: 0.9668 - val_loss: 0.1063\n",
            "Epoch 98/100\n",
            "\u001b[1m1875/1875\u001b[0m \u001b[32m━━━━━━━━━━━━━━━━━━━━\u001b[0m\u001b[37m\u001b[0m \u001b[1m41s\u001b[0m 14ms/step - accuracy: 0.9719 - loss: 0.0898 - val_accuracy: 0.9675 - val_loss: 0.1053\n",
            "Epoch 99/100\n",
            "\u001b[1m1875/1875\u001b[0m \u001b[32m━━━━━━━━━━━━━━━━━━━━\u001b[0m\u001b[37m\u001b[0m \u001b[1m41s\u001b[0m 14ms/step - accuracy: 0.9702 - loss: 0.0934 - val_accuracy: 0.9662 - val_loss: 0.1021\n",
            "Epoch 100/100\n",
            "\u001b[1m1875/1875\u001b[0m \u001b[32m━━━━━━━━━━━━━━━━━━━━\u001b[0m\u001b[37m\u001b[0m \u001b[1m41s\u001b[0m 14ms/step - accuracy: 0.9708 - loss: 0.0952 - val_accuracy: 0.9675 - val_loss: 0.1064\n"
          ]
        }
      ]
    },
    {
      "cell_type": "markdown",
      "source": [
        "# Results\n",
        "Training and validation curves show that the model is performing well:\n",
        "\n",
        "- **Accuracy**: Both training and validation accuracy rapidly improve and stabilize around 95-96%, indicating that the model is learning effectively and generalizes well.\n",
        "\n",
        "- **Loss**: Training and validation loss decrease steadily, converging without divergence, which doesn't suggest an overfitting problem."
      ],
      "metadata": {
        "id": "u3GHKMPjT_Xy"
      }
    },
    {
      "cell_type": "code",
      "source": [
        "# Plot training & validation accuracy values\n",
        "plt.figure(figsize=(12, 4))\n",
        "\n",
        "plt.subplot(1, 2, 1)\n",
        "plt.plot(history.history['accuracy'], label='Train Accuracy')\n",
        "plt.plot(history.history['val_accuracy'], label='Validation Accuracy')\n",
        "plt.title('Model Accuracy')\n",
        "plt.xlabel('Epoch')\n",
        "plt.ylabel('Accuracy')\n",
        "plt.legend(loc='lower right')\n",
        "\n",
        "# Plot training & validation loss values\n",
        "plt.subplot(1, 2, 2)\n",
        "plt.plot(history.history['loss'], label='Train Loss')\n",
        "plt.plot(history.history['val_loss'], label='Validation Loss')\n",
        "plt.title('Model Loss')\n",
        "plt.xlabel('Epoch')\n",
        "plt.ylabel('Loss')\n",
        "plt.legend(loc='upper right')\n",
        "\n",
        "plt.show()"
      ],
      "metadata": {
        "colab": {
          "base_uri": "https://localhost:8080/",
          "height": 430
        },
        "id": "8BDxCTNBUt81",
        "outputId": "ef4a4ec8-4c11-4f3c-e2fd-106e4468ce69"
      },
      "execution_count": null,
      "outputs": [
        {
          "output_type": "display_data",
          "data": {
            "text/plain": [
              "<Figure size 1200x400 with 2 Axes>"
            ],
            "image/png": "[encoded data removed]"
          },
          "metadata": {}
        }
      ]
    },
    {
      "cell_type": "code",
      "source": [
        "model.save('MNIST_model.h5')"
      ],
      "metadata": {
        "id": "czTyVT0Ck3WD"
      },
      "execution_count": null,
      "outputs": []
    }
  ]
}