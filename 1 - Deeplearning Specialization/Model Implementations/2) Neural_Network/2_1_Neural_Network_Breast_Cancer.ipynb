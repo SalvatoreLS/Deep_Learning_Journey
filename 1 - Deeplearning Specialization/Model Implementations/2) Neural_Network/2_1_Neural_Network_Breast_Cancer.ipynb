{
  "nbformat": 4,
  "nbformat_minor": 0,
  "metadata": {
    "colab": {
      "provenance": []
    },
    "kernelspec": {
      "name": "python3",
      "display_name": "Python 3"
    },
    "language_info": {
      "name": "python"
    }
  },
  "cells": [
    {
      "cell_type": "markdown",
      "source": [
        "# Simple Neural Network\n",
        "In this notebook I will implement a simple neural network with a single hidden layer with 10 neurons.\n",
        "\n"
      ],
      "metadata": {
        "id": "1CTsFR9pBWka"
      }
    },
    {
      "cell_type": "code",
      "execution_count": 203,
      "metadata": {
        "id": "mls1jhP3gwry"
      },
      "outputs": [],
      "source": [
        "import numpy as np\n",
        "import copy\n",
        "import matplotlib.pyplot as plt\n",
        "import sklearn\n",
        "import sklearn.datasets\n",
        "import sklearn.linear_model\n",
        "from sklearn.model_selection import train_test_split, KFold\n",
        "from sklearn.metrics import confusion_matrix, f1_score\n",
        "import pandas as pd\n",
        "import seaborn as sns\n",
        "from sklearn.preprocessing import StandardScaler"
      ]
    },
    {
      "cell_type": "markdown",
      "source": [
        "# Dataset\n",
        "In this notebook, I will use the **Breast Cancer Wisconsin (Diagnostic) dataset** from **sklearn** to build a model for identifying malignant breast cancer. The goal is to train and evaluate a machine learning model for accurate diagnosis."
      ],
      "metadata": {
        "id": "Co-BE8VkBurP"
      }
    },
    {
      "cell_type": "code",
      "source": [
        "X, Y = sklearn.datasets.load_breast_cancer(return_X_y=True)\n",
        "Y = Y.reshape(-1, 1)"
      ],
      "metadata": {
        "id": "iOZ-y8dEhenk"
      },
      "execution_count": 204,
      "outputs": []
    },
    {
      "cell_type": "code",
      "source": [
        "X_train, X_test, y_train, y_test = train_test_split(X, Y, test_size=0.2, random_state = 42)"
      ],
      "metadata": {
        "id": "KVWZDBZcr7BU"
      },
      "execution_count": 205,
      "outputs": []
    },
    {
      "cell_type": "code",
      "source": [
        "scaler = StandardScaler()\n",
        "X_train_scaled = scaler.fit_transform(X_train)\n",
        "X_test_scaled = scaler.transform(X_test)"
      ],
      "metadata": {
        "id": "qEPj-tuc0vTc"
      },
      "execution_count": 206,
      "outputs": []
    },
    {
      "cell_type": "code",
      "source": [
        "X_train_scaled = X_train_scaled.T\n",
        "X_test_scaled = X_test_scaled.T\n",
        "y_train = y_train.T\n",
        "y_test = y_test.T"
      ],
      "metadata": {
        "id": "wYD6tSLc0QnS"
      },
      "execution_count": 207,
      "outputs": []
    },
    {
      "cell_type": "code",
      "source": [
        "print(X_train_scaled.shape, y_train.shape)"
      ],
      "metadata": {
        "colab": {
          "base_uri": "https://localhost:8080/"
        },
        "id": "IcOJxFteH0GV",
        "outputId": "6b999bc1-a0a9-40bf-a66e-bebbe73f7805"
      },
      "execution_count": 208,
      "outputs": [
        {
          "output_type": "stream",
          "name": "stdout",
          "text": [
            "(30, 455) (1, 455)\n"
          ]
        }
      ]
    },
    {
      "cell_type": "code",
      "source": [
        "n_x = X_train_scaled.shape[0]  # number of features\n",
        "n_h = 10  # number of hidden units\n",
        "n_y = y_train.shape[0]   # binary classification"
      ],
      "metadata": {
        "id": "NY91xpy41NDL"
      },
      "execution_count": 209,
      "outputs": []
    },
    {
      "cell_type": "markdown",
      "source": [
        "# Neural Network model\n",
        "I wrote down a simple neural network with these functions:\n",
        "- `__init__`: executed when the model is initialized. It sets parameters with their starting values (randomly).\n",
        "- `forward_propagation`: It calculates those parameters that will be useful for calculating cost function.\n",
        "  $$z^{[1]} = w^{[1]}X + b^{[1]} \\:\\:\\:\\:\\:\\:\\:\\:\\:\\:\\:\\:\\:\\:\\:\\:\\:\\:\\:\\:\\:\\:\\:\\:\\:\\: A^{[1]} = g^{[1]}(z^{[1]})$$\n",
        "  $$z^{[2]} = w^{[2]}A^{[1]} + b^{[2]} \\:\\:\\:\\:\\:\\:\\:\\:\\:\\:\\:\\:\\:\\:\\:\\:\\:\\:\\:\\:\\:\\:\\:\\:\\:\\: A^{[2]} = g^{[2]}(z^{[2]}) = \\sigma(z^{[2]})$$\n",
        "- `compute_cost`: it calculates the cost function as follows:\n",
        "  $$\\mathcal{J}(w^{[1]}, b^{[1]}, w^{[2]}, b^{[2]}) = \\frac{1}{m}\\sum_{i=1}^m \\mathcal{L}(\\hat{y} - y)$$\n",
        "- `backward_propagation`: finds the derivatives of our parameters.\n",
        "  $$dz^{[2]} = A^{[2]} - Y$$\n",
        "  $$dw^{[2]} = \\frac{1}{m}dz^{[2]}A^{[2]T}$$\n",
        "  $$db^{[2]} = \\frac{1}{m}\\cdot np.sum(dz^{[2]}, axis=1, keepdims=True)$$\n",
        "  $$dz^{[1]} = w^{[2]T}dz^{[2]} \\star g'^{[1]}(z^{[1]})$$\n",
        "  where $\\star$ represents element-wise product.\n",
        "\n",
        "  I am using a $\\tanh$ activation function for the hidden layer and a sigmoid function for the output layer.\n",
        "  $$a = \\tanh(z) = \\frac{e^z-e^{-z}}{e^z+e^{-z}}$$\n",
        "  $$\\sigma(z) = \\frac{1}{1+e^{-z}}$$\n",
        "- `update_parameters`: it calculates the following equations:\n",
        "  $$w^{[1]} := w^{[1]} - \\alpha \\cdot dw^{[1]} \\:\\:\\:\\:\\:\\:\\:\\:\\:\\:\\:\\:\\:\\:\\:\\:\\:\\:\\:\\:\\:\\:\\:\\:\\:\\: b^{[1]} := b^{[1]} - \\alpha \\cdot db^{[1]}$$\n",
        "  $$w^{[2]} := w^{[2]} - \\alpha \\cdot dw^{[2]} \\:\\:\\:\\:\\:\\:\\:\\:\\:\\:\\:\\:\\:\\:\\:\\:\\:\\:\\:\\:\\:\\:\\:\\:\\:\\: b^{[2]} := b^{[2]} - \\alpha \\cdot db^{[2]}$$\n",
        "  where $α$ represents the learning rate.\n",
        "- `fit`: it performs the training of the network by using the previous functions.\n",
        "- `predict` and `score`: to make the model predict labels and evaluate its performance.\n",
        "\n",
        "**Note**: We don't initialize parameters with zero values because in that case the activation for each node will be the same, for each node of the hidden layer. This would generate symmetry, rendering the hidden layer be useless.\n",
        "Moreover we choose small values because in this way we avoid to have big values, in order to avoid the slope of the activation function be too close to zero, slowing down the gradient descent and so the learning of the network."
      ],
      "metadata": {
        "id": "kUeyRuQpDI0S"
      }
    },
    {
      "cell_type": "code",
      "source": [
        "class NeuralNetwork():\n",
        "\n",
        "  def __init__(self, n_x, n_h, n_y, num_iterations = 10000, learning_rate = 1.2, print_cost=False):\n",
        "\n",
        "    np.random.seed(2)\n",
        "\n",
        "    self.cost = 0.0\n",
        "\n",
        "    self.num_iterations = num_iterations\n",
        "    self.learning_rate = learning_rate\n",
        "    self.print_cost = print_cost\n",
        "\n",
        "    self.parameters = {\"W1\": np.random.randn(n_h, n_x)*0.01,\n",
        "                       \"W2\": np.random.randn(n_y, n_h)*0.01,\n",
        "                       \"b1\": np.zeros((n_h, 1)),\n",
        "                       \"b2\": np.zeros((n_y, 1))}\n",
        "\n",
        "    self.grads = {\"dW1\": 0.0,\n",
        "                  \"dW2\": 0.0,\n",
        "                  \"db1\": 0.0,\n",
        "                  \"db2\": 0.0}\n",
        "\n",
        "    self.cache = {\"Z1\": 0.0,\n",
        "                  \"Z2\": 0.0,\n",
        "                  \"A1\": 0.0,\n",
        "                  \"A2\": 0.0}\n",
        "\n",
        "  def sigmoid(self, Z):\n",
        "    s = 1 / (1 + np.exp(-Z))\n",
        "    return s\n",
        "\n",
        "\n",
        "  def forward_propagation(self, X):\n",
        "\n",
        "    Z1 = np.dot(self.parameters[\"W1\"], X) + self.parameters[\"b1\"]\n",
        "    A1 = np.tanh(Z1)\n",
        "    Z2 = np.dot(self.parameters[\"W2\"], A1) + self.parameters[\"b2\"]\n",
        "    A2 = self.sigmoid(Z2)\n",
        "\n",
        "    self.cache = {\"Z1\": Z1,\n",
        "                  \"Z2\": Z2,\n",
        "                  \"A1\": A1,\n",
        "                  \"A2\": A2}\n",
        "\n",
        "\n",
        "  def compute_cost(self, Y):\n",
        "\n",
        "    m = Y.shape[1]\n",
        "\n",
        "    logprobs = np.multiply(np.log(self.cache[\"A2\"]), Y) + np.multiply(1 - Y, np.log(1 - self.cache[\"A2\"]))\n",
        "    cost = - (1/m) * np.sum(logprobs)\n",
        "\n",
        "    self.cost = float(np.squeeze(cost))\n",
        "\n",
        "\n",
        "  def backward_propagation(self, X, Y):\n",
        "\n",
        "    m = X.shape[1]\n",
        "\n",
        "    dZ2 = self.cache[\"A2\"] - Y\n",
        "    dW2 = (1/m) * np.dot(dZ2, self.cache[\"A1\"].T)\n",
        "    db2 = (1/m) *(np.sum(dZ2, axis=1, keepdims=True))\n",
        "    dZ1 = np.dot(self.parameters[\"W2\"].T, dZ2) * (1 - np.power(self.cache[\"A1\"], 2))\n",
        "    dW1 = (1/m) *(np.dot(dZ1, X.T))\n",
        "    db1 = (1/m) *(np.sum(dZ1, axis=1, keepdims=True))\n",
        "\n",
        "    self.grads = {\"dW1\": dW1,\n",
        "          \"db1\": db1,\n",
        "          \"dW2\": dW2,\n",
        "          \"db2\": db2}\n",
        "\n",
        "\n",
        "  def update_parameters(self):\n",
        "\n",
        "    self.parameters[\"W1\"] -= self.learning_rate * self.grads[\"dW1\"]\n",
        "    self.parameters[\"W2\"] -= self.learning_rate * self.grads[\"dW2\"]\n",
        "    self.parameters[\"b1\"] -= self.learning_rate * self.grads[\"db1\"]\n",
        "    self.parameters[\"b2\"] -= self.learning_rate * self.grads[\"db2\"]\n",
        "\n",
        "\n",
        "  def fit(self, X, Y):\n",
        "\n",
        "    costs = []\n",
        "\n",
        "    for i in range(0, self.num_iterations + 1):\n",
        "\n",
        "      self.forward_propagation(X)\n",
        "      self.compute_cost(Y)\n",
        "      costs.append(self.cost)\n",
        "      self.backward_propagation(X, Y)\n",
        "      self.update_parameters()\n",
        "\n",
        "      if self.print_cost and i % 1000 == 0:\n",
        "        print(\"Cost after iteration %i: %f\" %(i, self.cost))\n",
        "\n",
        "    sns.lineplot(costs)\n",
        "\n",
        "\n",
        "  def predict(self, X):\n",
        "\n",
        "    self.forward_propagation(X)\n",
        "    predictions = (self.cache[\"A2\"] > 0.5)\n",
        "    return predictions\n",
        "\n",
        "\n",
        "  def score(self, X, Y):\n",
        "\n",
        "    Y_pred = self.predict(X)\n",
        "    return np.mean(Y_pred == Y)\n",
        "\n"
      ],
      "metadata": {
        "id": "oidqr8dUh_u3"
      },
      "execution_count": 217,
      "outputs": []
    },
    {
      "cell_type": "markdown",
      "source": [
        "## Justification for Learning Rate of 2.5\n",
        "\n",
        "While a learning rate of 2.5 is unusually high, it has proven effective in this specific case:\n",
        "\n",
        "1. **Empirical success**: Fast convergence and good final performance observed.\n",
        "2. **Simple architecture**: Our one-hidden-layer network may tolerate larger update steps.\n",
        "3. **Efficiency**: Faster training with fewer iterations."
      ],
      "metadata": {
        "id": "uzo3juO_Ljiz"
      }
    },
    {
      "cell_type": "code",
      "source": [
        "nn_model = NeuralNetwork(n_x= n_x, n_h = 4, n_y = n_y, num_iterations = 10000, learning_rate = 2.5, print_cost=True)"
      ],
      "metadata": {
        "id": "u5xx2HNZxnxP"
      },
      "execution_count": 214,
      "outputs": []
    },
    {
      "cell_type": "code",
      "source": [
        "nn_model.fit(X = X_train_scaled, Y = y_train)"
      ],
      "metadata": {
        "colab": {
          "base_uri": "https://localhost:8080/",
          "height": 621
        },
        "id": "5lz0wC_NyLMn",
        "outputId": "9652bf78-6538-493f-e1f3-ed5be01f83f0"
      },
      "execution_count": 215,
      "outputs": [
        {
          "output_type": "stream",
          "name": "stdout",
          "text": [
            "Cost after iteration 0: 0.693501\n",
            "Cost after iteration 1000: 0.001744\n",
            "Cost after iteration 2000: 0.000696\n",
            "Cost after iteration 3000: 0.000427\n",
            "Cost after iteration 4000: 0.000307\n",
            "Cost after iteration 5000: 0.000238\n",
            "Cost after iteration 6000: 0.000194\n",
            "Cost after iteration 7000: 0.000164\n",
            "Cost after iteration 8000: 0.000142\n",
            "Cost after iteration 9000: 0.000125\n",
            "Cost after iteration 10000: 0.000111\n"
          ]
        },
        {
          "output_type": "display_data",
          "data": {
            "text/plain": [
              "<Figure size 640x480 with 1 Axes>"
            ],
            "image/png": "[encoded data removed]"
          },
          "metadata": {}
        }
      ]
    },
    {
      "cell_type": "markdown",
      "source": [
        "# Neural Network Model Performance\n",
        "At the end I have calculated some useful metrics to evaluate this model.\n",
        "\n",
        "### Accuracy\n",
        "Accuracy is calculated by the ratio between correctly assigned labels and total labels. It may not be the best metric in case of unbalanced dataset.\n",
        "\n",
        "### F1 score\n",
        "The F1 score is calculated as the harmonic mean of Recall and Precision:\n",
        "  $$Recall(r) = \\frac{TP}{TP + FN} \\:\\:\\:\\:\\:\\:\\:\\:\\:\\:\\:\\:\\:\\:\\: Precision(p) = \\frac{TP}{TP + FP}$$\n",
        "<br>\n",
        "  $$F1 \\: score = \\frac{2rp}{r + p}$$\n",
        "\n",
        "- **High Accuracy**: 96.49%, indicating strong generalization.\n",
        "- **High F1 Score**: 97.14%, reflecting excellent balance between precision and recall.\n",
        "\n",
        "The model shows robust performance, making it reliable for accurate predictions on new data."
      ],
      "metadata": {
        "id": "zesN6zupL-42"
      }
    },
    {
      "cell_type": "code",
      "source": [
        "acc = nn_model.score(X = X_test_scaled, Y = y_test)\n",
        "f1 = f1_score(y_test, nn_model.predict(X_test_scaled), average='micro')\n",
        "\n",
        "print(f\"Accuracy: {acc * 100:.2f}% ({acc:.4f})\")\n",
        "print(f\"F1 Score (micro-average): {f1 * 100:.2f}% ({f1:.4f})\")"
      ],
      "metadata": {
        "colab": {
          "base_uri": "https://localhost:8080/"
        },
        "id": "qO8A72iayk_D",
        "outputId": "b1e7913b-f647-46c6-8488-f1ac03f0cfa7"
      },
      "execution_count": 216,
      "outputs": [
        {
          "output_type": "stream",
          "name": "stdout",
          "text": [
            "Accuracy: 96.49% (0.9649)\n",
            "F1 Score (micro-average): 97.14% (0.9714)\n"
          ]
        }
      ]
    }
  ]
}